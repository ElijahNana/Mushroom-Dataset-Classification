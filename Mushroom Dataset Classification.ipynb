{
 "cells": [
  {
   "cell_type": "markdown",
   "id": "e92664a4-732a-404d-92ea-6ea5ef1ea6b7",
   "metadata": {},
   "source": [
    "# Loading The Mushroom Dataset"
   ]
  },
  {
   "cell_type": "markdown",
   "id": "21a69659-585b-44fb-8274-ee444fdaa9da",
   "metadata": {},
   "source": [
    "#We first import the necessary libraries to work with the dataset"
   ]
  },
  {
   "cell_type": "code",
   "execution_count": 3,
   "id": "ae3bdefc-012e-4d3b-b769-b63f03bb5676",
   "metadata": {},
   "outputs": [],
   "source": [
    "import pandas as pd\n",
    "import seaborn as sns\n",
    "import matplotlib.pyplot as plt"
   ]
  },
  {
   "cell_type": "code",
   "execution_count": 4,
   "id": "4b07fea8-13c0-439e-a60c-6db1dc7bbda9",
   "metadata": {},
   "outputs": [],
   "source": [
    "#we now read the dataset into the notebook\n",
    "df=pd.read_csv(\"mushrooms.csv\")"
   ]
  },
  {
   "cell_type": "code",
   "execution_count": 5,
   "id": "24a84e62-a9b8-4844-863b-e49d91073e63",
   "metadata": {},
   "outputs": [
    {
     "data": {
      "text/html": [
       "<div>\n",
       "<style scoped>\n",
       "    .dataframe tbody tr th:only-of-type {\n",
       "        vertical-align: middle;\n",
       "    }\n",
       "\n",
       "    .dataframe tbody tr th {\n",
       "        vertical-align: top;\n",
       "    }\n",
       "\n",
       "    .dataframe thead th {\n",
       "        text-align: right;\n",
       "    }\n",
       "</style>\n",
       "<table border=\"1\" class=\"dataframe\">\n",
       "  <thead>\n",
       "    <tr style=\"text-align: right;\">\n",
       "      <th></th>\n",
       "      <th>class</th>\n",
       "      <th>cap-shape</th>\n",
       "      <th>cap-surface</th>\n",
       "      <th>cap-color</th>\n",
       "      <th>bruises</th>\n",
       "      <th>odor</th>\n",
       "      <th>gill-attachment</th>\n",
       "      <th>gill-spacing</th>\n",
       "      <th>gill-size</th>\n",
       "      <th>gill-color</th>\n",
       "      <th>...</th>\n",
       "      <th>stalk-surface-below-ring</th>\n",
       "      <th>stalk-color-above-ring</th>\n",
       "      <th>stalk-color-below-ring</th>\n",
       "      <th>veil-type</th>\n",
       "      <th>veil-color</th>\n",
       "      <th>ring-number</th>\n",
       "      <th>ring-type</th>\n",
       "      <th>spore-print-color</th>\n",
       "      <th>population</th>\n",
       "      <th>habitat</th>\n",
       "    </tr>\n",
       "  </thead>\n",
       "  <tbody>\n",
       "    <tr>\n",
       "      <th>0</th>\n",
       "      <td>p</td>\n",
       "      <td>x</td>\n",
       "      <td>s</td>\n",
       "      <td>n</td>\n",
       "      <td>t</td>\n",
       "      <td>p</td>\n",
       "      <td>f</td>\n",
       "      <td>c</td>\n",
       "      <td>n</td>\n",
       "      <td>k</td>\n",
       "      <td>...</td>\n",
       "      <td>s</td>\n",
       "      <td>w</td>\n",
       "      <td>w</td>\n",
       "      <td>p</td>\n",
       "      <td>w</td>\n",
       "      <td>o</td>\n",
       "      <td>p</td>\n",
       "      <td>k</td>\n",
       "      <td>s</td>\n",
       "      <td>u</td>\n",
       "    </tr>\n",
       "    <tr>\n",
       "      <th>1</th>\n",
       "      <td>e</td>\n",
       "      <td>x</td>\n",
       "      <td>s</td>\n",
       "      <td>y</td>\n",
       "      <td>t</td>\n",
       "      <td>a</td>\n",
       "      <td>f</td>\n",
       "      <td>c</td>\n",
       "      <td>b</td>\n",
       "      <td>k</td>\n",
       "      <td>...</td>\n",
       "      <td>s</td>\n",
       "      <td>w</td>\n",
       "      <td>w</td>\n",
       "      <td>p</td>\n",
       "      <td>w</td>\n",
       "      <td>o</td>\n",
       "      <td>p</td>\n",
       "      <td>n</td>\n",
       "      <td>n</td>\n",
       "      <td>g</td>\n",
       "    </tr>\n",
       "    <tr>\n",
       "      <th>2</th>\n",
       "      <td>e</td>\n",
       "      <td>b</td>\n",
       "      <td>s</td>\n",
       "      <td>w</td>\n",
       "      <td>t</td>\n",
       "      <td>l</td>\n",
       "      <td>f</td>\n",
       "      <td>c</td>\n",
       "      <td>b</td>\n",
       "      <td>n</td>\n",
       "      <td>...</td>\n",
       "      <td>s</td>\n",
       "      <td>w</td>\n",
       "      <td>w</td>\n",
       "      <td>p</td>\n",
       "      <td>w</td>\n",
       "      <td>o</td>\n",
       "      <td>p</td>\n",
       "      <td>n</td>\n",
       "      <td>n</td>\n",
       "      <td>m</td>\n",
       "    </tr>\n",
       "    <tr>\n",
       "      <th>3</th>\n",
       "      <td>p</td>\n",
       "      <td>x</td>\n",
       "      <td>y</td>\n",
       "      <td>w</td>\n",
       "      <td>t</td>\n",
       "      <td>p</td>\n",
       "      <td>f</td>\n",
       "      <td>c</td>\n",
       "      <td>n</td>\n",
       "      <td>n</td>\n",
       "      <td>...</td>\n",
       "      <td>s</td>\n",
       "      <td>w</td>\n",
       "      <td>w</td>\n",
       "      <td>p</td>\n",
       "      <td>w</td>\n",
       "      <td>o</td>\n",
       "      <td>p</td>\n",
       "      <td>k</td>\n",
       "      <td>s</td>\n",
       "      <td>u</td>\n",
       "    </tr>\n",
       "    <tr>\n",
       "      <th>4</th>\n",
       "      <td>e</td>\n",
       "      <td>x</td>\n",
       "      <td>s</td>\n",
       "      <td>g</td>\n",
       "      <td>f</td>\n",
       "      <td>n</td>\n",
       "      <td>f</td>\n",
       "      <td>w</td>\n",
       "      <td>b</td>\n",
       "      <td>k</td>\n",
       "      <td>...</td>\n",
       "      <td>s</td>\n",
       "      <td>w</td>\n",
       "      <td>w</td>\n",
       "      <td>p</td>\n",
       "      <td>w</td>\n",
       "      <td>o</td>\n",
       "      <td>e</td>\n",
       "      <td>n</td>\n",
       "      <td>a</td>\n",
       "      <td>g</td>\n",
       "    </tr>\n",
       "  </tbody>\n",
       "</table>\n",
       "<p>5 rows × 23 columns</p>\n",
       "</div>"
      ],
      "text/plain": [
       "  class cap-shape cap-surface cap-color bruises odor gill-attachment  \\\n",
       "0     p         x           s         n       t    p               f   \n",
       "1     e         x           s         y       t    a               f   \n",
       "2     e         b           s         w       t    l               f   \n",
       "3     p         x           y         w       t    p               f   \n",
       "4     e         x           s         g       f    n               f   \n",
       "\n",
       "  gill-spacing gill-size gill-color  ... stalk-surface-below-ring  \\\n",
       "0            c         n          k  ...                        s   \n",
       "1            c         b          k  ...                        s   \n",
       "2            c         b          n  ...                        s   \n",
       "3            c         n          n  ...                        s   \n",
       "4            w         b          k  ...                        s   \n",
       "\n",
       "  stalk-color-above-ring stalk-color-below-ring veil-type veil-color  \\\n",
       "0                      w                      w         p          w   \n",
       "1                      w                      w         p          w   \n",
       "2                      w                      w         p          w   \n",
       "3                      w                      w         p          w   \n",
       "4                      w                      w         p          w   \n",
       "\n",
       "  ring-number ring-type spore-print-color population habitat  \n",
       "0           o         p                 k          s       u  \n",
       "1           o         p                 n          n       g  \n",
       "2           o         p                 n          n       m  \n",
       "3           o         p                 k          s       u  \n",
       "4           o         e                 n          a       g  \n",
       "\n",
       "[5 rows x 23 columns]"
      ]
     },
     "execution_count": 5,
     "metadata": {},
     "output_type": "execute_result"
    }
   ],
   "source": [
    "df.head()\n",
    "#displays the first rows of the dataset"
   ]
  },
  {
   "cell_type": "markdown",
   "id": "cf63c287-00be-4f73-b373-dbb0548e89dc",
   "metadata": {},
   "source": [
    "# Exploratory Data Analysis"
   ]
  },
  {
   "cell_type": "code",
   "execution_count": 162,
   "id": "809a2a61-5698-4faa-9329-1247c01f3d00",
   "metadata": {},
   "outputs": [
    {
     "data": {
      "text/html": [
       "<div>\n",
       "<style scoped>\n",
       "    .dataframe tbody tr th:only-of-type {\n",
       "        vertical-align: middle;\n",
       "    }\n",
       "\n",
       "    .dataframe tbody tr th {\n",
       "        vertical-align: top;\n",
       "    }\n",
       "\n",
       "    .dataframe thead th {\n",
       "        text-align: right;\n",
       "    }\n",
       "</style>\n",
       "<table border=\"1\" class=\"dataframe\">\n",
       "  <thead>\n",
       "    <tr style=\"text-align: right;\">\n",
       "      <th></th>\n",
       "      <th>class</th>\n",
       "      <th>cap-shape</th>\n",
       "      <th>cap-surface</th>\n",
       "      <th>cap-color</th>\n",
       "      <th>bruises</th>\n",
       "      <th>odor</th>\n",
       "      <th>gill-attachment</th>\n",
       "      <th>gill-spacing</th>\n",
       "      <th>gill-size</th>\n",
       "      <th>gill-color</th>\n",
       "      <th>...</th>\n",
       "      <th>stalk-surface-below-ring</th>\n",
       "      <th>stalk-color-above-ring</th>\n",
       "      <th>stalk-color-below-ring</th>\n",
       "      <th>veil-type</th>\n",
       "      <th>veil-color</th>\n",
       "      <th>ring-number</th>\n",
       "      <th>ring-type</th>\n",
       "      <th>spore-print-color</th>\n",
       "      <th>population</th>\n",
       "      <th>habitat</th>\n",
       "    </tr>\n",
       "  </thead>\n",
       "  <tbody>\n",
       "    <tr>\n",
       "      <th>8119</th>\n",
       "      <td>e</td>\n",
       "      <td>k</td>\n",
       "      <td>s</td>\n",
       "      <td>n</td>\n",
       "      <td>f</td>\n",
       "      <td>n</td>\n",
       "      <td>a</td>\n",
       "      <td>c</td>\n",
       "      <td>b</td>\n",
       "      <td>y</td>\n",
       "      <td>...</td>\n",
       "      <td>s</td>\n",
       "      <td>o</td>\n",
       "      <td>o</td>\n",
       "      <td>p</td>\n",
       "      <td>o</td>\n",
       "      <td>o</td>\n",
       "      <td>p</td>\n",
       "      <td>b</td>\n",
       "      <td>c</td>\n",
       "      <td>l</td>\n",
       "    </tr>\n",
       "    <tr>\n",
       "      <th>8120</th>\n",
       "      <td>e</td>\n",
       "      <td>x</td>\n",
       "      <td>s</td>\n",
       "      <td>n</td>\n",
       "      <td>f</td>\n",
       "      <td>n</td>\n",
       "      <td>a</td>\n",
       "      <td>c</td>\n",
       "      <td>b</td>\n",
       "      <td>y</td>\n",
       "      <td>...</td>\n",
       "      <td>s</td>\n",
       "      <td>o</td>\n",
       "      <td>o</td>\n",
       "      <td>p</td>\n",
       "      <td>n</td>\n",
       "      <td>o</td>\n",
       "      <td>p</td>\n",
       "      <td>b</td>\n",
       "      <td>v</td>\n",
       "      <td>l</td>\n",
       "    </tr>\n",
       "    <tr>\n",
       "      <th>8121</th>\n",
       "      <td>e</td>\n",
       "      <td>f</td>\n",
       "      <td>s</td>\n",
       "      <td>n</td>\n",
       "      <td>f</td>\n",
       "      <td>n</td>\n",
       "      <td>a</td>\n",
       "      <td>c</td>\n",
       "      <td>b</td>\n",
       "      <td>n</td>\n",
       "      <td>...</td>\n",
       "      <td>s</td>\n",
       "      <td>o</td>\n",
       "      <td>o</td>\n",
       "      <td>p</td>\n",
       "      <td>o</td>\n",
       "      <td>o</td>\n",
       "      <td>p</td>\n",
       "      <td>b</td>\n",
       "      <td>c</td>\n",
       "      <td>l</td>\n",
       "    </tr>\n",
       "    <tr>\n",
       "      <th>8122</th>\n",
       "      <td>p</td>\n",
       "      <td>k</td>\n",
       "      <td>y</td>\n",
       "      <td>n</td>\n",
       "      <td>f</td>\n",
       "      <td>y</td>\n",
       "      <td>f</td>\n",
       "      <td>c</td>\n",
       "      <td>n</td>\n",
       "      <td>b</td>\n",
       "      <td>...</td>\n",
       "      <td>k</td>\n",
       "      <td>w</td>\n",
       "      <td>w</td>\n",
       "      <td>p</td>\n",
       "      <td>w</td>\n",
       "      <td>o</td>\n",
       "      <td>e</td>\n",
       "      <td>w</td>\n",
       "      <td>v</td>\n",
       "      <td>l</td>\n",
       "    </tr>\n",
       "    <tr>\n",
       "      <th>8123</th>\n",
       "      <td>e</td>\n",
       "      <td>x</td>\n",
       "      <td>s</td>\n",
       "      <td>n</td>\n",
       "      <td>f</td>\n",
       "      <td>n</td>\n",
       "      <td>a</td>\n",
       "      <td>c</td>\n",
       "      <td>b</td>\n",
       "      <td>y</td>\n",
       "      <td>...</td>\n",
       "      <td>s</td>\n",
       "      <td>o</td>\n",
       "      <td>o</td>\n",
       "      <td>p</td>\n",
       "      <td>o</td>\n",
       "      <td>o</td>\n",
       "      <td>p</td>\n",
       "      <td>o</td>\n",
       "      <td>c</td>\n",
       "      <td>l</td>\n",
       "    </tr>\n",
       "  </tbody>\n",
       "</table>\n",
       "<p>5 rows × 23 columns</p>\n",
       "</div>"
      ],
      "text/plain": [
       "     class cap-shape cap-surface cap-color bruises odor gill-attachment  \\\n",
       "8119     e         k           s         n       f    n               a   \n",
       "8120     e         x           s         n       f    n               a   \n",
       "8121     e         f           s         n       f    n               a   \n",
       "8122     p         k           y         n       f    y               f   \n",
       "8123     e         x           s         n       f    n               a   \n",
       "\n",
       "     gill-spacing gill-size gill-color  ... stalk-surface-below-ring  \\\n",
       "8119            c         b          y  ...                        s   \n",
       "8120            c         b          y  ...                        s   \n",
       "8121            c         b          n  ...                        s   \n",
       "8122            c         n          b  ...                        k   \n",
       "8123            c         b          y  ...                        s   \n",
       "\n",
       "     stalk-color-above-ring stalk-color-below-ring veil-type veil-color  \\\n",
       "8119                      o                      o         p          o   \n",
       "8120                      o                      o         p          n   \n",
       "8121                      o                      o         p          o   \n",
       "8122                      w                      w         p          w   \n",
       "8123                      o                      o         p          o   \n",
       "\n",
       "     ring-number ring-type spore-print-color population habitat  \n",
       "8119           o         p                 b          c       l  \n",
       "8120           o         p                 b          v       l  \n",
       "8121           o         p                 b          c       l  \n",
       "8122           o         e                 w          v       l  \n",
       "8123           o         p                 o          c       l  \n",
       "\n",
       "[5 rows x 23 columns]"
      ]
     },
     "execution_count": 162,
     "metadata": {},
     "output_type": "execute_result"
    }
   ],
   "source": [
    "df.tail()\n",
    "#displays the bottom rows of the dataset"
   ]
  },
  {
   "cell_type": "code",
   "execution_count": 8,
   "id": "057fd1f0-aa97-4849-90d0-b2cec9e8b4b2",
   "metadata": {},
   "outputs": [
    {
     "data": {
      "text/plain": [
       "(8124, 23)"
      ]
     },
     "execution_count": 8,
     "metadata": {},
     "output_type": "execute_result"
    }
   ],
   "source": [
    "df.shape\n",
    "#displays the number of rows and the number of columns"
   ]
  },
  {
   "cell_type": "code",
   "execution_count": 9,
   "id": "b7b97c26-3a67-4de0-88e9-912e97c30f1a",
   "metadata": {},
   "outputs": [
    {
     "name": "stdout",
     "output_type": "stream",
     "text": [
      "<class 'pandas.core.frame.DataFrame'>\n",
      "RangeIndex: 8124 entries, 0 to 8123\n",
      "Data columns (total 23 columns):\n",
      " #   Column                    Non-Null Count  Dtype \n",
      "---  ------                    --------------  ----- \n",
      " 0   class                     8124 non-null   object\n",
      " 1   cap-shape                 8124 non-null   object\n",
      " 2   cap-surface               8124 non-null   object\n",
      " 3   cap-color                 8124 non-null   object\n",
      " 4   bruises                   8124 non-null   object\n",
      " 5   odor                      8124 non-null   object\n",
      " 6   gill-attachment           8124 non-null   object\n",
      " 7   gill-spacing              8124 non-null   object\n",
      " 8   gill-size                 8124 non-null   object\n",
      " 9   gill-color                8124 non-null   object\n",
      " 10  stalk-shape               8124 non-null   object\n",
      " 11  stalk-root                8124 non-null   object\n",
      " 12  stalk-surface-above-ring  8124 non-null   object\n",
      " 13  stalk-surface-below-ring  8124 non-null   object\n",
      " 14  stalk-color-above-ring    8124 non-null   object\n",
      " 15  stalk-color-below-ring    8124 non-null   object\n",
      " 16  veil-type                 8124 non-null   object\n",
      " 17  veil-color                8124 non-null   object\n",
      " 18  ring-number               8124 non-null   object\n",
      " 19  ring-type                 8124 non-null   object\n",
      " 20  spore-print-color         8124 non-null   object\n",
      " 21  population                8124 non-null   object\n",
      " 22  habitat                   8124 non-null   object\n",
      "dtypes: object(23)\n",
      "memory usage: 1.4+ MB\n"
     ]
    }
   ],
   "source": [
    "df.info()\n",
    "#gives an overview of all variables(their data type and non-null count)"
   ]
  },
  {
   "cell_type": "code",
   "execution_count": 10,
   "id": "b6b0c13c-132c-44b4-862b-c48b6b636fa1",
   "metadata": {},
   "outputs": [
    {
     "data": {
      "text/html": [
       "<div>\n",
       "<style scoped>\n",
       "    .dataframe tbody tr th:only-of-type {\n",
       "        vertical-align: middle;\n",
       "    }\n",
       "\n",
       "    .dataframe tbody tr th {\n",
       "        vertical-align: top;\n",
       "    }\n",
       "\n",
       "    .dataframe thead th {\n",
       "        text-align: right;\n",
       "    }\n",
       "</style>\n",
       "<table border=\"1\" class=\"dataframe\">\n",
       "  <thead>\n",
       "    <tr style=\"text-align: right;\">\n",
       "      <th></th>\n",
       "      <th>class</th>\n",
       "      <th>cap-shape</th>\n",
       "      <th>cap-surface</th>\n",
       "      <th>cap-color</th>\n",
       "      <th>bruises</th>\n",
       "      <th>odor</th>\n",
       "      <th>gill-attachment</th>\n",
       "      <th>gill-spacing</th>\n",
       "      <th>gill-size</th>\n",
       "      <th>gill-color</th>\n",
       "      <th>...</th>\n",
       "      <th>stalk-surface-below-ring</th>\n",
       "      <th>stalk-color-above-ring</th>\n",
       "      <th>stalk-color-below-ring</th>\n",
       "      <th>veil-type</th>\n",
       "      <th>veil-color</th>\n",
       "      <th>ring-number</th>\n",
       "      <th>ring-type</th>\n",
       "      <th>spore-print-color</th>\n",
       "      <th>population</th>\n",
       "      <th>habitat</th>\n",
       "    </tr>\n",
       "  </thead>\n",
       "  <tbody>\n",
       "    <tr>\n",
       "      <th>count</th>\n",
       "      <td>8124</td>\n",
       "      <td>8124</td>\n",
       "      <td>8124</td>\n",
       "      <td>8124</td>\n",
       "      <td>8124</td>\n",
       "      <td>8124</td>\n",
       "      <td>8124</td>\n",
       "      <td>8124</td>\n",
       "      <td>8124</td>\n",
       "      <td>8124</td>\n",
       "      <td>...</td>\n",
       "      <td>8124</td>\n",
       "      <td>8124</td>\n",
       "      <td>8124</td>\n",
       "      <td>8124</td>\n",
       "      <td>8124</td>\n",
       "      <td>8124</td>\n",
       "      <td>8124</td>\n",
       "      <td>8124</td>\n",
       "      <td>8124</td>\n",
       "      <td>8124</td>\n",
       "    </tr>\n",
       "    <tr>\n",
       "      <th>unique</th>\n",
       "      <td>2</td>\n",
       "      <td>6</td>\n",
       "      <td>4</td>\n",
       "      <td>10</td>\n",
       "      <td>2</td>\n",
       "      <td>9</td>\n",
       "      <td>2</td>\n",
       "      <td>2</td>\n",
       "      <td>2</td>\n",
       "      <td>12</td>\n",
       "      <td>...</td>\n",
       "      <td>4</td>\n",
       "      <td>9</td>\n",
       "      <td>9</td>\n",
       "      <td>1</td>\n",
       "      <td>4</td>\n",
       "      <td>3</td>\n",
       "      <td>5</td>\n",
       "      <td>9</td>\n",
       "      <td>6</td>\n",
       "      <td>7</td>\n",
       "    </tr>\n",
       "    <tr>\n",
       "      <th>top</th>\n",
       "      <td>e</td>\n",
       "      <td>x</td>\n",
       "      <td>y</td>\n",
       "      <td>n</td>\n",
       "      <td>f</td>\n",
       "      <td>n</td>\n",
       "      <td>f</td>\n",
       "      <td>c</td>\n",
       "      <td>b</td>\n",
       "      <td>b</td>\n",
       "      <td>...</td>\n",
       "      <td>s</td>\n",
       "      <td>w</td>\n",
       "      <td>w</td>\n",
       "      <td>p</td>\n",
       "      <td>w</td>\n",
       "      <td>o</td>\n",
       "      <td>p</td>\n",
       "      <td>w</td>\n",
       "      <td>v</td>\n",
       "      <td>d</td>\n",
       "    </tr>\n",
       "    <tr>\n",
       "      <th>freq</th>\n",
       "      <td>4208</td>\n",
       "      <td>3656</td>\n",
       "      <td>3244</td>\n",
       "      <td>2284</td>\n",
       "      <td>4748</td>\n",
       "      <td>3528</td>\n",
       "      <td>7914</td>\n",
       "      <td>6812</td>\n",
       "      <td>5612</td>\n",
       "      <td>1728</td>\n",
       "      <td>...</td>\n",
       "      <td>4936</td>\n",
       "      <td>4464</td>\n",
       "      <td>4384</td>\n",
       "      <td>8124</td>\n",
       "      <td>7924</td>\n",
       "      <td>7488</td>\n",
       "      <td>3968</td>\n",
       "      <td>2388</td>\n",
       "      <td>4040</td>\n",
       "      <td>3148</td>\n",
       "    </tr>\n",
       "  </tbody>\n",
       "</table>\n",
       "<p>4 rows × 23 columns</p>\n",
       "</div>"
      ],
      "text/plain": [
       "       class cap-shape cap-surface cap-color bruises  odor gill-attachment  \\\n",
       "count   8124      8124        8124      8124    8124  8124            8124   \n",
       "unique     2         6           4        10       2     9               2   \n",
       "top        e         x           y         n       f     n               f   \n",
       "freq    4208      3656        3244      2284    4748  3528            7914   \n",
       "\n",
       "       gill-spacing gill-size gill-color  ... stalk-surface-below-ring  \\\n",
       "count          8124      8124       8124  ...                     8124   \n",
       "unique            2         2         12  ...                        4   \n",
       "top               c         b          b  ...                        s   \n",
       "freq           6812      5612       1728  ...                     4936   \n",
       "\n",
       "       stalk-color-above-ring stalk-color-below-ring veil-type veil-color  \\\n",
       "count                    8124                   8124      8124       8124   \n",
       "unique                      9                      9         1          4   \n",
       "top                         w                      w         p          w   \n",
       "freq                     4464                   4384      8124       7924   \n",
       "\n",
       "       ring-number ring-type spore-print-color population habitat  \n",
       "count         8124      8124              8124       8124    8124  \n",
       "unique           3         5                 9          6       7  \n",
       "top              o         p                 w          v       d  \n",
       "freq          7488      3968              2388       4040    3148  \n",
       "\n",
       "[4 rows x 23 columns]"
      ]
     },
     "execution_count": 10,
     "metadata": {},
     "output_type": "execute_result"
    }
   ],
   "source": [
    "df.describe()\n",
    "#gives statistical analysis of the mushroom dataset"
   ]
  },
  {
   "cell_type": "code",
   "execution_count": 11,
   "id": "403cf9c6-c5a3-4662-a05c-f5d1182767dd",
   "metadata": {},
   "outputs": [
    {
     "data": {
      "text/plain": [
       "class\n",
       "e    4208\n",
       "p    3916\n",
       "Name: count, dtype: int64"
      ]
     },
     "execution_count": 11,
     "metadata": {},
     "output_type": "execute_result"
    }
   ],
   "source": [
    "df['class'].value_counts()\n",
    "#shows value count of the Class variable"
   ]
  },
  {
   "cell_type": "code",
   "execution_count": 12,
   "id": "26400b97-bc7a-4baa-ae50-616ed6921526",
   "metadata": {},
   "outputs": [
    {
     "name": "stdout",
     "output_type": "stream",
     "text": [
      "class                                                     [p, e]\n",
      "cap-shape                                     [x, b, s, f, k, c]\n",
      "cap-surface                                         [s, y, f, g]\n",
      "cap-color                         [n, y, w, g, e, p, b, u, c, r]\n",
      "bruises                                                   [t, f]\n",
      "odor                                 [p, a, l, n, f, c, y, s, m]\n",
      "gill-attachment                                           [f, a]\n",
      "gill-spacing                                              [c, w]\n",
      "gill-size                                                 [n, b]\n",
      "gill-color                  [k, n, g, p, w, h, u, e, b, r, y, o]\n",
      "stalk-shape                                               [e, t]\n",
      "stalk-root                                       [e, c, b, r, ?]\n",
      "stalk-surface-above-ring                            [s, f, k, y]\n",
      "stalk-surface-below-ring                            [s, f, y, k]\n",
      "stalk-color-above-ring               [w, g, p, n, b, e, o, c, y]\n",
      "stalk-color-below-ring               [w, p, g, b, n, e, y, o, c]\n",
      "veil-type                                                    [p]\n",
      "veil-color                                          [w, n, o, y]\n",
      "ring-number                                            [o, t, n]\n",
      "ring-type                                        [p, e, l, f, n]\n",
      "spore-print-color                    [k, n, u, h, w, r, o, y, b]\n",
      "population                                    [s, n, a, v, y, c]\n",
      "habitat                                    [u, g, m, d, p, w, l]\n",
      "dtype: object\n"
     ]
    }
   ],
   "source": [
    "#displaying all unique values in each variable\n",
    "print(df.apply(pd.Series.unique))"
   ]
  },
  {
   "cell_type": "code",
   "execution_count": 13,
   "id": "e0d4635b-ae73-4940-96fe-36b6510a0e90",
   "metadata": {},
   "outputs": [
    {
     "data": {
      "text/plain": [
       "0"
      ]
     },
     "execution_count": 13,
     "metadata": {},
     "output_type": "execute_result"
    }
   ],
   "source": [
    "df.duplicated().sum()\n",
    "#checks the total number of duplicated rows"
   ]
  },
  {
   "cell_type": "markdown",
   "id": "a0cf35b9-7373-4f0e-8af5-f8f70cc4167c",
   "metadata": {},
   "source": [
    "# Visualising Relationships between Variables"
   ]
  },
  {
   "cell_type": "markdown",
   "id": "4fbe01dd-dfdd-49df-82de-a6e1cc22882c",
   "metadata": {},
   "source": [
    "#As 'Class' is the target variable showing which features of the mushroom are poisonous or edible, each feature variable will be plotted against the target. We can determine relationships such as which features determine if a mushroom is poisonous or edible and to what extent these features can determine that. Each Feature variable will be plotted with countplot to count each value on their Class values ('e' or 'p'). "
   ]
  },
  {
   "cell_type": "code",
   "execution_count": 16,
   "id": "d22ec746-a2be-4043-9533-f26c458a20ae",
   "metadata": {},
   "outputs": [
    {
     "data": {
      "image/png": "[encoded data removed]",
      "text/plain": [
       "<Figure size 640x480 with 1 Axes>"
      ]
     },
     "metadata": {},
     "output_type": "display_data"
    }
   ],
   "source": [
    "#Gill-Attachment v Class\n",
    "sns.countplot(x='gill-attachment', hue='class', data=df)\n",
    "plt.title('Gill-attachment vs Class')\n",
    "plt.show()"
   ]
  },
  {
   "cell_type": "code",
   "execution_count": 17,
   "id": "aec53d3e-2246-420f-ae55-e648bea8d53f",
   "metadata": {},
   "outputs": [
    {
     "data": {
      "image/png": "[encoded data removed]",
      "text/plain": [
       "<Figure size 640x480 with 1 Axes>"
      ]
     },
     "metadata": {},
     "output_type": "display_data"
    }
   ],
   "source": [
    "#Stalk-Shape v Class\n",
    "sns.countplot(x='stalk-shape', hue='class', data=df)\n",
    "plt.title('stalk-shape vs Class ')\n",
    "plt.show()"
   ]
  },
  {
   "cell_type": "code",
   "execution_count": 18,
   "id": "c61a4a22-6f4a-49a7-b1d5-9364652092e8",
   "metadata": {},
   "outputs": [
    {
     "data": {
      "image/png": "[encoded data removed]",
      "text/plain": [
       "<Figure size 640x480 with 1 Axes>"
      ]
     },
     "metadata": {},
     "output_type": "display_data"
    }
   ],
   "source": [
    "#Stalk-Color-Below-Ring v Class\n",
    "sns.countplot(x='stalk-color-below-ring', hue='class', data=df)\n",
    "plt.title('stalk-color-below-ring vs Class ')\n",
    "plt.show()"
   ]
  },
  {
   "cell_type": "code",
   "execution_count": 19,
   "id": "93ed5e34-f94a-4d23-a154-12d3d1934bb5",
   "metadata": {},
   "outputs": [
    {
     "data": {
      "image/png": "[encoded data removed]",
      "text/plain": [
       "<Figure size 640x480 with 1 Axes>"
      ]
     },
     "metadata": {},
     "output_type": "display_data"
    }
   ],
   "source": [
    "#Gill-Color v Class\n",
    "sns.countplot(x='gill-color', hue='class', data=df)\n",
    "plt.title('gill-color vs Class ')\n",
    "plt.show()"
   ]
  },
  {
   "cell_type": "code",
   "execution_count": 20,
   "id": "86e764c9-99eb-4529-82c3-e836b613efb6",
   "metadata": {},
   "outputs": [
    {
     "data": {
      "image/png": "[encoded data removed]",
      "text/plain": [
       "<Figure size 640x480 with 1 Axes>"
      ]
     },
     "metadata": {},
     "output_type": "display_data"
    }
   ],
   "source": [
    "#Population v Class\n",
    "sns.countplot(x='population', hue='class', data=df)\n",
    "plt.title('population vs Class ')\n",
    "plt.show()"
   ]
  },
  {
   "cell_type": "code",
   "execution_count": 21,
   "id": "68f74b76-9818-419a-a1fa-6700da452c56",
   "metadata": {},
   "outputs": [
    {
     "data": {
      "image/png": "[encoded data removed]",
      "text/plain": [
       "<Figure size 640x480 with 1 Axes>"
      ]
     },
     "metadata": {},
     "output_type": "display_data"
    }
   ],
   "source": [
    "#Bruises v Class\n",
    "sns.countplot(x='bruises', hue='class', data=df)\n",
    "plt.title('bruises vs Class')\n",
    "plt.show()"
   ]
  },
  {
   "cell_type": "code",
   "execution_count": 22,
   "id": "e412d469-0d86-4c9a-8ba7-2748e7a0199d",
   "metadata": {},
   "outputs": [
    {
     "data": {
      "image/png": "[encoded data removed]",
      "text/plain": [
       "<Figure size 640x480 with 1 Axes>"
      ]
     },
     "metadata": {},
     "output_type": "display_data"
    }
   ],
   "source": [
    "#Odor v Class\n",
    "sns.countplot(x='odor', hue='class', data=df)\n",
    "plt.title('Odor vs Class')\n",
    "plt.show()"
   ]
  },
  {
   "cell_type": "code",
   "execution_count": 23,
   "id": "44bf54e1-e993-47d4-99e2-a7c318f81a5c",
   "metadata": {},
   "outputs": [
    {
     "data": {
      "image/png": "[encoded data removed]",
      "text/plain": [
       "<Figure size 640x480 with 1 Axes>"
      ]
     },
     "metadata": {},
     "output_type": "display_data"
    }
   ],
   "source": [
    "#Stalk-Root v Class\n",
    "sns.countplot(x='stalk-root', hue='class', data=df)\n",
    "plt.title('stalk-root vs Class ')\n",
    "plt.show()\n",
    "#i am still going to include stalk root as it might help the algorithm despite containing '?'."
   ]
  },
  {
   "cell_type": "code",
   "execution_count": 24,
   "id": "66badb4c-5589-4b70-9810-491c7442582f",
   "metadata": {},
   "outputs": [
    {
     "data": {
      "image/png": "[encoded data removed]",
      "text/plain": [
       "<Figure size 640x480 with 1 Axes>"
      ]
     },
     "metadata": {},
     "output_type": "display_data"
    }
   ],
   "source": [
    "#Stalk-Surface_Above-Ground v Class\n",
    "sns.countplot(x='stalk-surface-above-ring', hue='class', data=df)\n",
    "plt.title('stalk-surface-above-ring vs Class')\n",
    "plt.show()"
   ]
  },
  {
   "cell_type": "code",
   "execution_count": 25,
   "id": "f4f6225b-e263-4f84-96f4-9670dabb7e18",
   "metadata": {},
   "outputs": [
    {
     "data": {
      "image/png": "[encoded data removed]",
      "text/plain": [
       "<Figure size 640x480 with 1 Axes>"
      ]
     },
     "metadata": {},
     "output_type": "display_data"
    }
   ],
   "source": [
    "#Gill-Spacing v Class\n",
    "sns.countplot(x='gill-spacing', hue='class', data=df)\n",
    "plt.title('gill-spacing vs Class')\n",
    "plt.show()"
   ]
  },
  {
   "cell_type": "code",
   "execution_count": 26,
   "id": "9c327bed-074f-4e85-bca9-a9f1f61e0811",
   "metadata": {},
   "outputs": [
    {
     "data": {
      "image/png": "[encoded data removed]",
      "text/plain": [
       "<Figure size 640x480 with 1 Axes>"
      ]
     },
     "metadata": {},
     "output_type": "display_data"
    }
   ],
   "source": [
    "#Gill-Size v Class\n",
    "sns.countplot(x='gill-size', hue='class', data=df)\n",
    "plt.title('gill-size vs Class')\n",
    "plt.show()"
   ]
  },
  {
   "cell_type": "code",
   "execution_count": 27,
   "id": "ded8ab06-2db2-4de4-87a2-8862def59a22",
   "metadata": {},
   "outputs": [
    {
     "data": {
      "image/png": "[encoded data removed]",
      "text/plain": [
       "<Figure size 640x480 with 1 Axes>"
      ]
     },
     "metadata": {},
     "output_type": "display_data"
    }
   ],
   "source": [
    "#Ring-Number v Class\n",
    "sns.countplot(x='ring-number', hue='class', data=df)\n",
    "plt.title('ring-number vs Class')\n",
    "plt.show()"
   ]
  },
  {
   "cell_type": "code",
   "execution_count": 28,
   "id": "2cabd9c3-ac76-4a5e-a3c6-a8e44234ddc2",
   "metadata": {},
   "outputs": [
    {
     "data": {
      "image/png": "[encoded data removed]",
      "text/plain": [
       "<Figure size 640x480 with 1 Axes>"
      ]
     },
     "metadata": {},
     "output_type": "display_data"
    }
   ],
   "source": [
    "#Ring-Type v Class\n",
    "sns.countplot(x='ring-type', hue='class', data=df)\n",
    "plt.title('ring-type vs Class')\n",
    "plt.show()"
   ]
  },
  {
   "cell_type": "code",
   "execution_count": 29,
   "id": "4457b02f-705d-4577-8d0c-2f7d5601bf75",
   "metadata": {},
   "outputs": [
    {
     "data": {
      "image/png": "[encoded data removed]",
      "text/plain": [
       "<Figure size 640x480 with 1 Axes>"
      ]
     },
     "metadata": {},
     "output_type": "display_data"
    }
   ],
   "source": [
    "#Veil-Color v Class\n",
    "sns.countplot(x='veil-color', hue='class', data=df)\n",
    "plt.title('veil-color vs Class')\n",
    "plt.show()"
   ]
  },
  {
   "cell_type": "code",
   "execution_count": 30,
   "id": "ba8e27e2-78f8-4652-a570-ae3a9c34c5d9",
   "metadata": {},
   "outputs": [
    {
     "data": {
      "image/png": "[encoded data removed]",
      "text/plain": [
       "<Figure size 640x480 with 1 Axes>"
      ]
     },
     "metadata": {},
     "output_type": "display_data"
    }
   ],
   "source": [
    "#Spore-Print-Color v Class\n",
    "sns.countplot(x='spore-print-color', hue='class', data=df)\n",
    "plt.title('spore-print-color vs Class')\n",
    "plt.show()"
   ]
  },
  {
   "cell_type": "code",
   "execution_count": 31,
   "id": "d2ba852e-ebce-4773-ace6-feb9070c57a2",
   "metadata": {},
   "outputs": [
    {
     "data": {
      "image/png": "[encoded data removed]",
      "text/plain": [
       "<Figure size 640x480 with 1 Axes>"
      ]
     },
     "metadata": {},
     "output_type": "display_data"
    }
   ],
   "source": [
    "#Habitat v Class\n",
    "sns.countplot(x='habitat', hue='class', data=df)\n",
    "plt.title('habitat vs Class')\n",
    "plt.show()"
   ]
  },
  {
   "cell_type": "code",
   "execution_count": 32,
   "id": "d5fb1b0f-fe6c-454a-bb5d-784002b5e8e0",
   "metadata": {},
   "outputs": [
    {
     "data": {
      "image/png": "[encoded data removed]",
      "text/plain": [
       "<Figure size 640x480 with 1 Axes>"
      ]
     },
     "metadata": {},
     "output_type": "display_data"
    }
   ],
   "source": [
    "#Veil-Type v Class\n",
    "sns.countplot(x='veil-type', hue='class', data=df)\n",
    "plt.title('veil-type vs Class')\n",
    "plt.show()"
   ]
  },
  {
   "cell_type": "markdown",
   "id": "4fc7288a-1144-4c44-84e5-ca23cc8ea9a8",
   "metadata": {},
   "source": [
    "From the plots, we can derive which feature values are poisonous (p) or edible (e) and which features of the mushroom likely belong to which class."
   ]
  },
  {
   "cell_type": "markdown",
   "id": "847e347a-6064-4074-a672-17ba6970bcda",
   "metadata": {},
   "source": [
    "#to be pruned\n",
    "\n",
    " - gill-attachment: according to the graph, there is little difference between both poisonous and edible mushroom in both criteria. this attribute or feature of the mushrooms proves less significant in the trainning and testing of the algorithms.\n",
    " \n",
    " - veil-type: because it has only one element/value which makes no significant difference as all mushrooms  of d? value are both poisonous and edible. it is the only criteria set which will add no importance to the algorithms.             \n",
    "\n",
    "#though stalk-root contains unknown variables, looking at the graph, the other values appear to be significant and might help the algorithm in determining which class a mushroom falls under.\n",
    "                       "
   ]
  },
  {
   "cell_type": "code",
   "execution_count": 35,
   "id": "287ec3df-a55f-4363-be20-1afddf078db9",
   "metadata": {},
   "outputs": [
    {
     "data": {
      "text/plain": [
       "Index(['class', 'cap-shape', 'cap-surface', 'cap-color', 'bruises', 'odor',\n",
       "       'gill-attachment', 'gill-spacing', 'gill-size', 'gill-color',\n",
       "       'stalk-shape', 'stalk-root', 'stalk-surface-above-ring',\n",
       "       'stalk-surface-below-ring', 'stalk-color-above-ring',\n",
       "       'stalk-color-below-ring', 'veil-type', 'veil-color', 'ring-number',\n",
       "       'ring-type', 'spore-print-color', 'population', 'habitat'],\n",
       "      dtype='object')"
      ]
     },
     "execution_count": 35,
     "metadata": {},
     "output_type": "execute_result"
    }
   ],
   "source": [
    "df.columns"
   ]
  },
  {
   "cell_type": "code",
   "execution_count": 36,
   "id": "c996aa56-6b13-4ca0-b2cf-884946152b48",
   "metadata": {},
   "outputs": [],
   "source": [
    "df2= df[['cap-shape', 'cap-surface', 'cap-color', 'bruises', 'odor',\n",
    "        'gill-spacing', 'gill-size', 'gill-color',\n",
    "       'stalk-shape', 'stalk-root', 'stalk-surface-above-ring',\n",
    "       'stalk-surface-below-ring', 'stalk-color-above-ring',\n",
    "       'stalk-color-below-ring', 'veil-color', 'ring-number',\n",
    "       'ring-type', 'spore-print-color', 'population', 'habitat','class']]\n",
    "#I removed the 2 variables(gill-attachment and veil-type) and re-arranged the columns so the Target variable goes to the end"
   ]
  },
  {
   "cell_type": "code",
   "execution_count": 37,
   "id": "46cb4e51-7a18-4d58-b1ea-78bfd5d5b12c",
   "metadata": {},
   "outputs": [
    {
     "data": {
      "text/html": [
       "<div>\n",
       "<style scoped>\n",
       "    .dataframe tbody tr th:only-of-type {\n",
       "        vertical-align: middle;\n",
       "    }\n",
       "\n",
       "    .dataframe tbody tr th {\n",
       "        vertical-align: top;\n",
       "    }\n",
       "\n",
       "    .dataframe thead th {\n",
       "        text-align: right;\n",
       "    }\n",
       "</style>\n",
       "<table border=\"1\" class=\"dataframe\">\n",
       "  <thead>\n",
       "    <tr style=\"text-align: right;\">\n",
       "      <th></th>\n",
       "      <th>cap-shape</th>\n",
       "      <th>cap-surface</th>\n",
       "      <th>cap-color</th>\n",
       "      <th>bruises</th>\n",
       "      <th>odor</th>\n",
       "      <th>gill-spacing</th>\n",
       "      <th>gill-size</th>\n",
       "      <th>gill-color</th>\n",
       "      <th>stalk-shape</th>\n",
       "      <th>stalk-root</th>\n",
       "      <th>...</th>\n",
       "      <th>stalk-surface-below-ring</th>\n",
       "      <th>stalk-color-above-ring</th>\n",
       "      <th>stalk-color-below-ring</th>\n",
       "      <th>veil-color</th>\n",
       "      <th>ring-number</th>\n",
       "      <th>ring-type</th>\n",
       "      <th>spore-print-color</th>\n",
       "      <th>population</th>\n",
       "      <th>habitat</th>\n",
       "      <th>class</th>\n",
       "    </tr>\n",
       "  </thead>\n",
       "  <tbody>\n",
       "    <tr>\n",
       "      <th>0</th>\n",
       "      <td>x</td>\n",
       "      <td>s</td>\n",
       "      <td>n</td>\n",
       "      <td>t</td>\n",
       "      <td>p</td>\n",
       "      <td>c</td>\n",
       "      <td>n</td>\n",
       "      <td>k</td>\n",
       "      <td>e</td>\n",
       "      <td>e</td>\n",
       "      <td>...</td>\n",
       "      <td>s</td>\n",
       "      <td>w</td>\n",
       "      <td>w</td>\n",
       "      <td>w</td>\n",
       "      <td>o</td>\n",
       "      <td>p</td>\n",
       "      <td>k</td>\n",
       "      <td>s</td>\n",
       "      <td>u</td>\n",
       "      <td>p</td>\n",
       "    </tr>\n",
       "    <tr>\n",
       "      <th>1</th>\n",
       "      <td>x</td>\n",
       "      <td>s</td>\n",
       "      <td>y</td>\n",
       "      <td>t</td>\n",
       "      <td>a</td>\n",
       "      <td>c</td>\n",
       "      <td>b</td>\n",
       "      <td>k</td>\n",
       "      <td>e</td>\n",
       "      <td>c</td>\n",
       "      <td>...</td>\n",
       "      <td>s</td>\n",
       "      <td>w</td>\n",
       "      <td>w</td>\n",
       "      <td>w</td>\n",
       "      <td>o</td>\n",
       "      <td>p</td>\n",
       "      <td>n</td>\n",
       "      <td>n</td>\n",
       "      <td>g</td>\n",
       "      <td>e</td>\n",
       "    </tr>\n",
       "    <tr>\n",
       "      <th>2</th>\n",
       "      <td>b</td>\n",
       "      <td>s</td>\n",
       "      <td>w</td>\n",
       "      <td>t</td>\n",
       "      <td>l</td>\n",
       "      <td>c</td>\n",
       "      <td>b</td>\n",
       "      <td>n</td>\n",
       "      <td>e</td>\n",
       "      <td>c</td>\n",
       "      <td>...</td>\n",
       "      <td>s</td>\n",
       "      <td>w</td>\n",
       "      <td>w</td>\n",
       "      <td>w</td>\n",
       "      <td>o</td>\n",
       "      <td>p</td>\n",
       "      <td>n</td>\n",
       "      <td>n</td>\n",
       "      <td>m</td>\n",
       "      <td>e</td>\n",
       "    </tr>\n",
       "    <tr>\n",
       "      <th>3</th>\n",
       "      <td>x</td>\n",
       "      <td>y</td>\n",
       "      <td>w</td>\n",
       "      <td>t</td>\n",
       "      <td>p</td>\n",
       "      <td>c</td>\n",
       "      <td>n</td>\n",
       "      <td>n</td>\n",
       "      <td>e</td>\n",
       "      <td>e</td>\n",
       "      <td>...</td>\n",
       "      <td>s</td>\n",
       "      <td>w</td>\n",
       "      <td>w</td>\n",
       "      <td>w</td>\n",
       "      <td>o</td>\n",
       "      <td>p</td>\n",
       "      <td>k</td>\n",
       "      <td>s</td>\n",
       "      <td>u</td>\n",
       "      <td>p</td>\n",
       "    </tr>\n",
       "    <tr>\n",
       "      <th>4</th>\n",
       "      <td>x</td>\n",
       "      <td>s</td>\n",
       "      <td>g</td>\n",
       "      <td>f</td>\n",
       "      <td>n</td>\n",
       "      <td>w</td>\n",
       "      <td>b</td>\n",
       "      <td>k</td>\n",
       "      <td>t</td>\n",
       "      <td>e</td>\n",
       "      <td>...</td>\n",
       "      <td>s</td>\n",
       "      <td>w</td>\n",
       "      <td>w</td>\n",
       "      <td>w</td>\n",
       "      <td>o</td>\n",
       "      <td>e</td>\n",
       "      <td>n</td>\n",
       "      <td>a</td>\n",
       "      <td>g</td>\n",
       "      <td>e</td>\n",
       "    </tr>\n",
       "  </tbody>\n",
       "</table>\n",
       "<p>5 rows × 21 columns</p>\n",
       "</div>"
      ],
      "text/plain": [
       "  cap-shape cap-surface cap-color bruises odor gill-spacing gill-size  \\\n",
       "0         x           s         n       t    p            c         n   \n",
       "1         x           s         y       t    a            c         b   \n",
       "2         b           s         w       t    l            c         b   \n",
       "3         x           y         w       t    p            c         n   \n",
       "4         x           s         g       f    n            w         b   \n",
       "\n",
       "  gill-color stalk-shape stalk-root  ... stalk-surface-below-ring  \\\n",
       "0          k           e          e  ...                        s   \n",
       "1          k           e          c  ...                        s   \n",
       "2          n           e          c  ...                        s   \n",
       "3          n           e          e  ...                        s   \n",
       "4          k           t          e  ...                        s   \n",
       "\n",
       "  stalk-color-above-ring stalk-color-below-ring veil-color ring-number  \\\n",
       "0                      w                      w          w           o   \n",
       "1                      w                      w          w           o   \n",
       "2                      w                      w          w           o   \n",
       "3                      w                      w          w           o   \n",
       "4                      w                      w          w           o   \n",
       "\n",
       "  ring-type spore-print-color population habitat class  \n",
       "0         p                 k          s       u     p  \n",
       "1         p                 n          n       g     e  \n",
       "2         p                 n          n       m     e  \n",
       "3         p                 k          s       u     p  \n",
       "4         e                 n          a       g     e  \n",
       "\n",
       "[5 rows x 21 columns]"
      ]
     },
     "execution_count": 37,
     "metadata": {},
     "output_type": "execute_result"
    }
   ],
   "source": [
    "df2.head()"
   ]
  },
  {
   "cell_type": "markdown",
   "id": "2da5da9a-d109-4fb7-b389-76e56190d6ef",
   "metadata": {},
   "source": [
    "#the models will run on df2 now as it contains the important features and the target."
   ]
  },
  {
   "cell_type": "markdown",
   "id": "d85ab274-b485-4ae9-ba62-fee2c8a4a147",
   "metadata": {},
   "source": [
    "# Encoding the Dataset to Boost Model Efficiency"
   ]
  },
  {
   "cell_type": "markdown",
   "id": "cc59c70c-d251-426c-bda1-ceea6f456e6b",
   "metadata": {},
   "source": [
    "The variables need to be encoded because most machine learning models only understand numbers and not strings. We will use  one-hot encoding to convert categorical variables into numerical format.This will ensure  compatibility with all model and prevent  assumptions about category order\r\n"
   ]
  },
  {
   "cell_type": "code",
   "execution_count": 41,
   "id": "d803b42b-33e4-4736-93c1-6a78f3643da4",
   "metadata": {},
   "outputs": [],
   "source": [
    "#We first split the dataset into features and target\n",
    "X = df2.iloc[:, :-1]  # Features\n",
    "Y = df2['class']  # Target"
   ]
  },
  {
   "cell_type": "code",
   "execution_count": 42,
   "id": "581eab23-aa1c-4818-ab13-953cf23ab394",
   "metadata": {},
   "outputs": [],
   "source": [
    "X_encoded = pd.get_dummies(X, drop_first=True)"
   ]
  },
  {
   "cell_type": "code",
   "execution_count": 43,
   "id": "f7d8b55d-4da8-4bff-8372-da1f1229a034",
   "metadata": {},
   "outputs": [
    {
     "data": {
      "text/html": [
       "<div>\n",
       "<style scoped>\n",
       "    .dataframe tbody tr th:only-of-type {\n",
       "        vertical-align: middle;\n",
       "    }\n",
       "\n",
       "    .dataframe tbody tr th {\n",
       "        vertical-align: top;\n",
       "    }\n",
       "\n",
       "    .dataframe thead th {\n",
       "        text-align: right;\n",
       "    }\n",
       "</style>\n",
       "<table border=\"1\" class=\"dataframe\">\n",
       "  <thead>\n",
       "    <tr style=\"text-align: right;\">\n",
       "      <th></th>\n",
       "      <th>cap-shape_c</th>\n",
       "      <th>cap-shape_f</th>\n",
       "      <th>cap-shape_k</th>\n",
       "      <th>cap-shape_s</th>\n",
       "      <th>cap-shape_x</th>\n",
       "      <th>cap-surface_g</th>\n",
       "      <th>cap-surface_s</th>\n",
       "      <th>cap-surface_y</th>\n",
       "      <th>cap-color_c</th>\n",
       "      <th>cap-color_e</th>\n",
       "      <th>...</th>\n",
       "      <th>population_n</th>\n",
       "      <th>population_s</th>\n",
       "      <th>population_v</th>\n",
       "      <th>population_y</th>\n",
       "      <th>habitat_g</th>\n",
       "      <th>habitat_l</th>\n",
       "      <th>habitat_m</th>\n",
       "      <th>habitat_p</th>\n",
       "      <th>habitat_u</th>\n",
       "      <th>habitat_w</th>\n",
       "    </tr>\n",
       "  </thead>\n",
       "  <tbody>\n",
       "    <tr>\n",
       "      <th>0</th>\n",
       "      <td>False</td>\n",
       "      <td>False</td>\n",
       "      <td>False</td>\n",
       "      <td>False</td>\n",
       "      <td>True</td>\n",
       "      <td>False</td>\n",
       "      <td>True</td>\n",
       "      <td>False</td>\n",
       "      <td>False</td>\n",
       "      <td>False</td>\n",
       "      <td>...</td>\n",
       "      <td>False</td>\n",
       "      <td>True</td>\n",
       "      <td>False</td>\n",
       "      <td>False</td>\n",
       "      <td>False</td>\n",
       "      <td>False</td>\n",
       "      <td>False</td>\n",
       "      <td>False</td>\n",
       "      <td>True</td>\n",
       "      <td>False</td>\n",
       "    </tr>\n",
       "    <tr>\n",
       "      <th>1</th>\n",
       "      <td>False</td>\n",
       "      <td>False</td>\n",
       "      <td>False</td>\n",
       "      <td>False</td>\n",
       "      <td>True</td>\n",
       "      <td>False</td>\n",
       "      <td>True</td>\n",
       "      <td>False</td>\n",
       "      <td>False</td>\n",
       "      <td>False</td>\n",
       "      <td>...</td>\n",
       "      <td>True</td>\n",
       "      <td>False</td>\n",
       "      <td>False</td>\n",
       "      <td>False</td>\n",
       "      <td>True</td>\n",
       "      <td>False</td>\n",
       "      <td>False</td>\n",
       "      <td>False</td>\n",
       "      <td>False</td>\n",
       "      <td>False</td>\n",
       "    </tr>\n",
       "    <tr>\n",
       "      <th>2</th>\n",
       "      <td>False</td>\n",
       "      <td>False</td>\n",
       "      <td>False</td>\n",
       "      <td>False</td>\n",
       "      <td>False</td>\n",
       "      <td>False</td>\n",
       "      <td>True</td>\n",
       "      <td>False</td>\n",
       "      <td>False</td>\n",
       "      <td>False</td>\n",
       "      <td>...</td>\n",
       "      <td>True</td>\n",
       "      <td>False</td>\n",
       "      <td>False</td>\n",
       "      <td>False</td>\n",
       "      <td>False</td>\n",
       "      <td>False</td>\n",
       "      <td>True</td>\n",
       "      <td>False</td>\n",
       "      <td>False</td>\n",
       "      <td>False</td>\n",
       "    </tr>\n",
       "    <tr>\n",
       "      <th>3</th>\n",
       "      <td>False</td>\n",
       "      <td>False</td>\n",
       "      <td>False</td>\n",
       "      <td>False</td>\n",
       "      <td>True</td>\n",
       "      <td>False</td>\n",
       "      <td>False</td>\n",
       "      <td>True</td>\n",
       "      <td>False</td>\n",
       "      <td>False</td>\n",
       "      <td>...</td>\n",
       "      <td>False</td>\n",
       "      <td>True</td>\n",
       "      <td>False</td>\n",
       "      <td>False</td>\n",
       "      <td>False</td>\n",
       "      <td>False</td>\n",
       "      <td>False</td>\n",
       "      <td>False</td>\n",
       "      <td>True</td>\n",
       "      <td>False</td>\n",
       "    </tr>\n",
       "    <tr>\n",
       "      <th>4</th>\n",
       "      <td>False</td>\n",
       "      <td>False</td>\n",
       "      <td>False</td>\n",
       "      <td>False</td>\n",
       "      <td>True</td>\n",
       "      <td>False</td>\n",
       "      <td>True</td>\n",
       "      <td>False</td>\n",
       "      <td>False</td>\n",
       "      <td>False</td>\n",
       "      <td>...</td>\n",
       "      <td>False</td>\n",
       "      <td>False</td>\n",
       "      <td>False</td>\n",
       "      <td>False</td>\n",
       "      <td>True</td>\n",
       "      <td>False</td>\n",
       "      <td>False</td>\n",
       "      <td>False</td>\n",
       "      <td>False</td>\n",
       "      <td>False</td>\n",
       "    </tr>\n",
       "  </tbody>\n",
       "</table>\n",
       "<p>5 rows × 94 columns</p>\n",
       "</div>"
      ],
      "text/plain": [
       "   cap-shape_c  cap-shape_f  cap-shape_k  cap-shape_s  cap-shape_x  \\\n",
       "0        False        False        False        False         True   \n",
       "1        False        False        False        False         True   \n",
       "2        False        False        False        False        False   \n",
       "3        False        False        False        False         True   \n",
       "4        False        False        False        False         True   \n",
       "\n",
       "   cap-surface_g  cap-surface_s  cap-surface_y  cap-color_c  cap-color_e  ...  \\\n",
       "0          False           True          False        False        False  ...   \n",
       "1          False           True          False        False        False  ...   \n",
       "2          False           True          False        False        False  ...   \n",
       "3          False          False           True        False        False  ...   \n",
       "4          False           True          False        False        False  ...   \n",
       "\n",
       "   population_n  population_s  population_v  population_y  habitat_g  \\\n",
       "0         False          True         False         False      False   \n",
       "1          True         False         False         False       True   \n",
       "2          True         False         False         False      False   \n",
       "3         False          True         False         False      False   \n",
       "4         False         False         False         False       True   \n",
       "\n",
       "   habitat_l  habitat_m  habitat_p  habitat_u  habitat_w  \n",
       "0      False      False      False       True      False  \n",
       "1      False      False      False      False      False  \n",
       "2      False       True      False      False      False  \n",
       "3      False      False      False       True      False  \n",
       "4      False      False      False      False      False  \n",
       "\n",
       "[5 rows x 94 columns]"
      ]
     },
     "execution_count": 43,
     "metadata": {},
     "output_type": "execute_result"
    }
   ],
   "source": [
    "X_encoded.head()\n",
    "#displays the encoded feature variables "
   ]
  },
  {
   "cell_type": "code",
   "execution_count": 44,
   "id": "2b60faa8-abd3-4fb1-8596-cb1e48e57c7a",
   "metadata": {},
   "outputs": [
    {
     "data": {
      "text/plain": [
       "0    p\n",
       "1    e\n",
       "2    e\n",
       "3    p\n",
       "4    e\n",
       "Name: class, dtype: object"
      ]
     },
     "execution_count": 44,
     "metadata": {},
     "output_type": "execute_result"
    }
   ],
   "source": [
    "Y.head()"
   ]
  },
  {
   "cell_type": "markdown",
   "id": "ee373da3-6c87-4bd8-8ff7-05bc955ed947",
   "metadata": {},
   "source": [
    "The target variable must also be encoded. Label Encoding is used for encoding the target variable."
   ]
  },
  {
   "cell_type": "code",
   "execution_count": 46,
   "id": "7799a4a1-3804-4d09-b816-fd82f864e36b",
   "metadata": {},
   "outputs": [],
   "source": [
    "from sklearn.preprocessing import LabelEncoder"
   ]
  },
  {
   "cell_type": "code",
   "execution_count": 47,
   "id": "b5bcbe56-3091-440e-bac9-8ebd3800365b",
   "metadata": {},
   "outputs": [],
   "source": [
    "le = LabelEncoder()\n",
    "y = le.fit_transform(Y)\n",
    "#the 'Class' varaible has been encoded"
   ]
  },
  {
   "cell_type": "code",
   "execution_count": 48,
   "id": "a263d940-7a06-47a2-bec5-44b98d0c91fa",
   "metadata": {},
   "outputs": [
    {
     "data": {
      "text/plain": [
       "array([1, 0, 0, ..., 0, 1, 0])"
      ]
     },
     "execution_count": 48,
     "metadata": {},
     "output_type": "execute_result"
    }
   ],
   "source": [
    "y\n",
    "#displaying the y values"
   ]
  },
  {
   "cell_type": "markdown",
   "id": "8cde496f-09a2-430d-a87b-5f359502ad0f",
   "metadata": {},
   "source": [
    "# Model Training and Prediction"
   ]
  },
  {
   "cell_type": "markdown",
   "id": "862bcad1-816e-4b08-9379-f0aca5c62d28",
   "metadata": {},
   "source": [
    "#We first split the dataset into train set,for training the model, and test set, for testing the models"
   ]
  },
  {
   "cell_type": "code",
   "execution_count": 51,
   "id": "5dd62ced-ac7e-42fe-95f5-44cad13d7da2",
   "metadata": {},
   "outputs": [],
   "source": [
    "from sklearn.model_selection import train_test_split"
   ]
  },
  {
   "cell_type": "code",
   "execution_count": 52,
   "id": "d669bdd3-b927-4b2c-876d-79063b7a9d9c",
   "metadata": {},
   "outputs": [],
   "source": [
    "X_train, X_test, y_train, y_test = train_test_split(X_encoded, y, test_size=0.3, random_state=42)\n",
    "#The dataset has been split and 30% of the dataset goes into the test set(test_size =0.3) and the remaining 70% into the train set."
   ]
  },
  {
   "cell_type": "code",
   "execution_count": 53,
   "id": "a5166323-7d68-4137-bc04-05201b64b9ac",
   "metadata": {},
   "outputs": [
    {
     "name": "stdout",
     "output_type": "stream",
     "text": [
      "X_train shape: 5686\n",
      "X_test shape: 2438\n"
     ]
    }
   ],
   "source": [
    "print('X_train shape:', len(X_train))\n",
    "print('X_test shape:', len(X_test))\n",
    "#This shows the number of rows in each set."
   ]
  },
  {
   "cell_type": "markdown",
   "id": "6b011600-d86b-4ddc-a62b-020211f18a8f",
   "metadata": {},
   "source": [
    "#After splitting, we import the various models to be used on the dataset along with the given metrics. Each model will be fit to the data and made to predict the values of y_test. We then evaluate each module for its accuracy, precision, recall and f1 scores."
   ]
  },
  {
   "cell_type": "markdown",
   "id": "8cdcf89c-c86b-40d9-bbb7-245d8f83b286",
   "metadata": {},
   "source": [
    "#Importing Classification algorithms and Evaluation Metrics"
   ]
  },
  {
   "cell_type": "code",
   "execution_count": 56,
   "id": "d9e0a45a-3179-4159-b1f9-f81868e4cb57",
   "metadata": {},
   "outputs": [],
   "source": [
    "from sklearn.naive_bayes import GaussianNB\n",
    "from sklearn.ensemble import RandomForestClassifier\n",
    "from sklearn.tree import DecisionTreeClassifier\n",
    "from sklearn.linear_model import LogisticRegression\n",
    "from sklearn.svm import SVC\n",
    "from sklearn.neighbors import KNeighborsClassifier\n",
    "import xgboost as xgb\n",
    "from sklearn.metrics import accuracy_score, precision_score, recall_score, f1_score"
   ]
  },
  {
   "cell_type": "markdown",
   "id": "af86a03d-9168-4d4b-bb2c-aa53471cf520",
   "metadata": {},
   "source": [
    "Gaussian Naive Bayes"
   ]
  },
  {
   "cell_type": "code",
   "execution_count": 58,
   "id": "4c6231d3-8bc7-4c8a-8f69-87165993c2c0",
   "metadata": {},
   "outputs": [],
   "source": [
    "gnb= GaussianNB()\n",
    "gnb.fit(X_train, y_train)\n",
    "\n",
    "y_predict_gnb= gnb.predict(X_test)"
   ]
  },
  {
   "cell_type": "code",
   "execution_count": 59,
   "id": "476230ab-85ff-46b7-9681-22259929fdec",
   "metadata": {},
   "outputs": [
    {
     "name": "stdout",
     "output_type": "stream",
     "text": [
      "[0 1 1 0 1]\n"
     ]
    }
   ],
   "source": [
    "print(y_predict_gnb[:5])"
   ]
  },
  {
   "cell_type": "code",
   "execution_count": 60,
   "id": "1c7c9d44-1651-4500-bb12-f68f9764968c",
   "metadata": {},
   "outputs": [
    {
     "name": "stdout",
     "output_type": "stream",
     "text": [
      "[0 1 1 0 1]\n"
     ]
    }
   ],
   "source": [
    "print(y_test[:5])"
   ]
  },
  {
   "cell_type": "markdown",
   "id": "f109bfad-6928-40ab-a58d-57cf9ba95bd9",
   "metadata": {},
   "source": [
    "#Evaluating Gaussian Naive Bayes"
   ]
  },
  {
   "cell_type": "code",
   "execution_count": 62,
   "id": "862cb1a1-f747-4e3a-88d4-0da346243152",
   "metadata": {},
   "outputs": [
    {
     "name": "stdout",
     "output_type": "stream",
     "text": [
      "accuracy_gnb: 0.9569319114027892 precision_gnb: 0.9190031152647975 recall_gnb: 0.9991532599491956 f1_gnb: 0.9574036511156186\n"
     ]
    }
   ],
   "source": [
    "accuracy_gnb = accuracy_score(y_test, y_predict_gnb)\n",
    "precision_gnb = precision_score(y_test, y_predict_gnb)\n",
    "recall_gnb = recall_score(y_test, y_predict_gnb)\n",
    "f1_gnb = f1_score(y_test, y_predict_gnb)\n",
    "print('accuracy_gnb:', accuracy_gnb, 'precision_gnb:', precision_gnb, 'recall_gnb:', recall_gnb, 'f1_gnb:', f1_gnb)"
   ]
  },
  {
   "cell_type": "markdown",
   "id": "965b8038-16af-4182-9633-6f143bb32368",
   "metadata": {},
   "source": [
    "Random Forest"
   ]
  },
  {
   "cell_type": "code",
   "execution_count": 64,
   "id": "564b74f3-8d21-4318-8282-d657a48658f7",
   "metadata": {},
   "outputs": [],
   "source": [
    "rdf= RandomForestClassifier()\n",
    "rdf.fit(X_train,y_train)\n",
    "\n",
    "y_predict_rdf= rdf.predict(X_test)"
   ]
  },
  {
   "cell_type": "code",
   "execution_count": 65,
   "id": "74521991-d18e-43ad-abac-3add34a901a8",
   "metadata": {},
   "outputs": [
    {
     "name": "stdout",
     "output_type": "stream",
     "text": [
      "[0 1 1 0 1]\n"
     ]
    }
   ],
   "source": [
    "print(y_predict_rdf[:5])"
   ]
  },
  {
   "cell_type": "markdown",
   "id": "04e5435a-6126-4d3a-8a80-e56b5b5dbe00",
   "metadata": {},
   "source": [
    "#Evaluating Random Forest"
   ]
  },
  {
   "cell_type": "code",
   "execution_count": 67,
   "id": "45fbc0b7-9f0e-487e-bdbb-0d725878c61e",
   "metadata": {},
   "outputs": [
    {
     "name": "stdout",
     "output_type": "stream",
     "text": [
      "accuracy_rdf: 1.0 precision_rdf: 1.0 recall_rdf: 1.0 f1_rdf: 1.0\n"
     ]
    }
   ],
   "source": [
    "accuracy_rdf = accuracy_score(y_test, y_predict_rdf)\n",
    "precision_rdf = precision_score(y_test, y_predict_rdf)\n",
    "recall_rdf = recall_score(y_test, y_predict_rdf)\n",
    "f1_rdf = f1_score(y_test, y_predict_rdf)\n",
    "print('accuracy_rdf:', accuracy_rdf, 'precision_rdf:', precision_rdf, 'recall_rdf:', recall_rdf, 'f1_rdf:', f1_rdf)"
   ]
  },
  {
   "cell_type": "markdown",
   "id": "130a0035-65c6-4afe-82a2-d63f27689e8c",
   "metadata": {},
   "source": [
    "Decision Tree"
   ]
  },
  {
   "cell_type": "code",
   "execution_count": 69,
   "id": "4c6a1415-b4e2-49f6-9906-f62246e36ce6",
   "metadata": {},
   "outputs": [],
   "source": [
    "dt= DecisionTreeClassifier()\n",
    "dt.fit(X_train, y_train)\n",
    "\n",
    "y_predict_dt= dt.predict(X_test)"
   ]
  },
  {
   "cell_type": "code",
   "execution_count": 70,
   "id": "3c193f7c-bebb-417f-bd5d-af10e6a565a6",
   "metadata": {},
   "outputs": [
    {
     "name": "stdout",
     "output_type": "stream",
     "text": [
      "[0 1 1 0 1]\n"
     ]
    }
   ],
   "source": [
    "print(y_predict_dt[:5])"
   ]
  },
  {
   "cell_type": "markdown",
   "id": "c9e305d6-5747-443b-99a6-a9c2bde07b4c",
   "metadata": {},
   "source": [
    "#Evaluating Decision Model"
   ]
  },
  {
   "cell_type": "code",
   "execution_count": 72,
   "id": "01dfb2dd-60fc-4c9f-a804-9f749fc143d0",
   "metadata": {},
   "outputs": [
    {
     "name": "stdout",
     "output_type": "stream",
     "text": [
      "accuracy_dt: 1.0 precision_dt: 1.0 recall_dt: 1.0 f1_dt: 1.0\n"
     ]
    }
   ],
   "source": [
    "accuracy_dt = accuracy_score(y_test, y_predict_dt)\n",
    "precision_dt = precision_score(y_test, y_predict_dt)\n",
    "recall_dt = recall_score(y_test, y_predict_dt)\n",
    "f1_dt = f1_score(y_test, y_predict_dt)\n",
    "print('accuracy_dt:', accuracy_dt, 'precision_dt:', precision_dt, 'recall_dt:', recall_dt, 'f1_dt:', f1_dt)"
   ]
  },
  {
   "cell_type": "code",
   "execution_count": 73,
   "id": "b5293444-339d-485b-8486-85bfde91c7d7",
   "metadata": {},
   "outputs": [
    {
     "name": "stdout",
     "output_type": "stream",
     "text": [
      "                       Feature  Importance\n",
      "22                      odor_n    0.630137\n",
      "41                stalk-root_c    0.174635\n",
      "49  stalk-surface-below-ring_y    0.111918\n",
      "79         spore-print-color_r    0.032963\n",
      "80         spore-print-color_u    0.020429\n",
      "20                      odor_l    0.009692\n",
      "39               stalk-shape_t    0.009125\n",
      "53    stalk-color-above-ring_n    0.005506\n",
      "26              gill-spacing_w    0.002079\n",
      "5                cap-surface_g    0.001404\n",
      "17                   bruises_t    0.001388\n",
      "0                  cap-shape_c    0.000703\n",
      "27                 gill-size_n    0.000020\n",
      "83                population_c    0.000000\n",
      "68                veil-color_y    0.000000\n"
     ]
    }
   ],
   "source": [
    "#We can find the important features from the decision tree classification algorithm\n",
    "importance = dt.feature_importances_\n",
    "\n",
    "# Creating a DataFrame to view feature importance scores\n",
    "feature_importance_df = pd.DataFrame({'Feature': X_encoded.columns, 'Importance': importance})\n",
    "feature_importance_df = feature_importance_df.sort_values(by='Importance', ascending=False)\n",
    "\n",
    "print(feature_importance_df[:15])        "
   ]
  },
  {
   "cell_type": "markdown",
   "id": "551003e9-1f0a-4bf8-87b0-b63c7c8d203d",
   "metadata": {},
   "source": [
    "Logistic Regression"
   ]
  },
  {
   "cell_type": "code",
   "execution_count": 75,
   "id": "435157e0-2c0b-409e-bafe-b3371e466867",
   "metadata": {},
   "outputs": [],
   "source": [
    "lr= LogisticRegression()\n",
    "lr.fit(X_train,y_train)\n",
    "\n",
    "y_predict_lr= lr.predict(X_test)"
   ]
  },
  {
   "cell_type": "code",
   "execution_count": 76,
   "id": "8035f4ce-5e75-4dee-90dd-acb625c91929",
   "metadata": {},
   "outputs": [
    {
     "name": "stdout",
     "output_type": "stream",
     "text": [
      "[0 1 1 0 1]\n"
     ]
    }
   ],
   "source": [
    "print(y_predict_lr[:5])"
   ]
  },
  {
   "cell_type": "markdown",
   "id": "48fd7e8f-23ac-4278-b1a1-3652e8b06608",
   "metadata": {},
   "source": [
    "#Evaluating Logistic Regression"
   ]
  },
  {
   "cell_type": "code",
   "execution_count": 78,
   "id": "a1b90790-3fe8-4051-8d09-f647490bb3ac",
   "metadata": {},
   "outputs": [
    {
     "name": "stdout",
     "output_type": "stream",
     "text": [
      "accuracy_lr: 0.9991796554552912 precision_lr: 1.0 recall_lr: 0.9983065198983911 f1_lr: 0.9991525423728813\n"
     ]
    }
   ],
   "source": [
    "accuracy_lr = accuracy_score(y_test, y_predict_lr)\n",
    "precision_lr = precision_score(y_test, y_predict_lr)\n",
    "recall_lr = recall_score(y_test, y_predict_lr)\n",
    "f1_lr = f1_score(y_test, y_predict_lr)\n",
    "print('accuracy_lr:', accuracy_lr, 'precision_lr:', precision_lr, 'recall_lr:', recall_lr, 'f1_lr:', f1_lr)"
   ]
  },
  {
   "cell_type": "markdown",
   "id": "77abb86c-6f6d-4303-bb10-a9cfaa314371",
   "metadata": {},
   "source": [
    "Support Vector Classification"
   ]
  },
  {
   "cell_type": "code",
   "execution_count": 80,
   "id": "c6ea61af-8b57-45c2-b40a-98d034c464c0",
   "metadata": {},
   "outputs": [],
   "source": [
    "svc=SVC()\n",
    "svc.fit(X_train,y_train)\n",
    "\n",
    "y_predict_svc= svc.predict(X_test)"
   ]
  },
  {
   "cell_type": "code",
   "execution_count": 81,
   "id": "a839d5f8-d7ca-4909-afaa-dc2bb5986a6b",
   "metadata": {},
   "outputs": [
    {
     "name": "stdout",
     "output_type": "stream",
     "text": [
      "[0 1 1 0 1]\n"
     ]
    }
   ],
   "source": [
    "print(y_predict_svc[:5])"
   ]
  },
  {
   "cell_type": "markdown",
   "id": "23a70b61-b6fb-48ad-9a51-96f309dd7648",
   "metadata": {},
   "source": [
    "#Evaluating Support Vector Classification"
   ]
  },
  {
   "cell_type": "code",
   "execution_count": 83,
   "id": "430fbb4a-fbd9-4761-8b97-d197795a8e86",
   "metadata": {},
   "outputs": [
    {
     "name": "stdout",
     "output_type": "stream",
     "text": [
      "accuracy_svc: 1.0 precision_svc: 1.0 recall_svc: 1.0 f1_svc: 1.0\n"
     ]
    }
   ],
   "source": [
    "accuracy_svc = accuracy_score(y_test, y_predict_svc)\n",
    "precision_svc = precision_score(y_test, y_predict_svc)\n",
    "recall_svc = recall_score(y_test, y_predict_svc)\n",
    "f1_svc = f1_score(y_test, y_predict_svc)\n",
    "print('accuracy_svc:', accuracy_svc, 'precision_svc:', precision_svc, 'recall_svc:', recall_svc, 'f1_svc:', f1_svc)"
   ]
  },
  {
   "cell_type": "markdown",
   "id": "e26e5bbf-1f1c-4c14-917c-d60faf2ce789",
   "metadata": {},
   "source": [
    "K-Nearest Neighbors"
   ]
  },
  {
   "cell_type": "code",
   "execution_count": 85,
   "id": "dc71eae3-d33d-4384-bb1a-cb030830bcbf",
   "metadata": {},
   "outputs": [],
   "source": [
    "knn= KNeighborsClassifier()\n",
    "knn.fit(X_train,y_train)\n",
    "\n",
    "y_predict_knn= knn.predict(X_test)"
   ]
  },
  {
   "cell_type": "code",
   "execution_count": 86,
   "id": "7a9d7ab4-b4d3-4c3e-8ba3-f393a6015cbb",
   "metadata": {},
   "outputs": [
    {
     "name": "stdout",
     "output_type": "stream",
     "text": [
      "[0 1 1 0 1]\n"
     ]
    }
   ],
   "source": [
    "print(y_predict_knn[:5])"
   ]
  },
  {
   "cell_type": "markdown",
   "id": "1cdf6071-3a30-4ec2-aa03-442f09c38488",
   "metadata": {},
   "source": [
    "#Evaluating KNN"
   ]
  },
  {
   "cell_type": "code",
   "execution_count": 88,
   "id": "821ce081-e142-4ce4-a350-b3e9e83e15de",
   "metadata": {},
   "outputs": [
    {
     "name": "stdout",
     "output_type": "stream",
     "text": [
      "accuracy_knn: 1.0 precision_knn: 1.0 recall_knn: 1.0 f1_knn: 1.0\n"
     ]
    }
   ],
   "source": [
    "accuracy_knn = accuracy_score(y_test, y_predict_knn)\n",
    "precision_knn = precision_score(y_test, y_predict_knn)\n",
    "recall_knn = recall_score(y_test, y_predict_knn)\n",
    "f1_knn = f1_score(y_test, y_predict_knn)\n",
    "print('accuracy_knn:', accuracy_knn, 'precision_knn:', precision_knn, 'recall_knn:', recall_knn, 'f1_knn:', f1_knn)"
   ]
  },
  {
   "cell_type": "markdown",
   "id": "7598bddb-99c8-4583-aa1d-963863c00f94",
   "metadata": {},
   "source": [
    "XGBoost"
   ]
  },
  {
   "cell_type": "code",
   "execution_count": 90,
   "id": "4d9f3206-26a7-4968-8f3a-a835ca04da4d",
   "metadata": {},
   "outputs": [],
   "source": [
    "xgb = xgb.XGBClassifier(objective='binary:logistic', random_state=42)\n",
    "xgb.fit(X_train, y_train)\n",
    "\n",
    "y_predict_xgb = xgb.predict(X_test)"
   ]
  },
  {
   "cell_type": "code",
   "execution_count": 91,
   "id": "2ce65dff-9edc-4945-ab2d-77e28ecc6921",
   "metadata": {},
   "outputs": [
    {
     "data": {
      "text/plain": [
       "array([0, 1, 1, 0, 1])"
      ]
     },
     "execution_count": 91,
     "metadata": {},
     "output_type": "execute_result"
    }
   ],
   "source": [
    "y_predict_xgb[:5]"
   ]
  },
  {
   "cell_type": "markdown",
   "id": "6b44d828-70e1-4c91-84b2-6f83c4247b06",
   "metadata": {},
   "source": [
    "#Evaluating XGBoost "
   ]
  },
  {
   "cell_type": "code",
   "execution_count": 93,
   "id": "7789904b-82bf-4f8b-aacd-4b1771254c4a",
   "metadata": {},
   "outputs": [
    {
     "name": "stdout",
     "output_type": "stream",
     "text": [
      "accuracy_xgb: 1.0 precision_xgb: 1.0 recall_xgb: 1.0 f1_xgb: 1.0\n"
     ]
    }
   ],
   "source": [
    "accuracy_xgb = accuracy_score(y_test, y_predict_xgb)\n",
    "precision_xgb = precision_score(y_test, y_predict_xgb)\n",
    "recall_xgb = recall_score(y_test, y_predict_xgb)\n",
    "f1_xgb = f1_score(y_test, y_predict_xgb)\n",
    "print('accuracy_xgb:', accuracy_xgb, 'precision_xgb:', precision_xgb, 'recall_xgb:', recall_xgb, 'f1_xgb:', f1_xgb)"
   ]
  },
  {
   "cell_type": "markdown",
   "id": "c80787c3-3b8f-4988-b032-18733b138c06",
   "metadata": {},
   "source": [
    "# Model Performance Evaluation"
   ]
  },
  {
   "cell_type": "code",
   "execution_count": 95,
   "id": "efe495a8-55a5-4697-9a01-835640de7360",
   "metadata": {},
   "outputs": [
    {
     "name": "stdout",
     "output_type": "stream",
     "text": [
      "Models Evaluation Metrics:\n",
      "                 Model  Accuracy  Precision  Recall  F1 Score\n",
      "               XGBoost    1.0000      1.000  1.0000    1.0000\n",
      "            GaussianNB    0.9569      0.919  0.9992    0.9574\n",
      "         Random Forest    1.0000      1.000  1.0000    1.0000\n",
      "         Decision Tree    1.0000      1.000  1.0000    1.0000\n",
      "   Logistic Regression    0.9992      1.000  0.9983    0.9992\n",
      "Support Vector Machine    1.0000      1.000  1.0000    1.0000\n",
      "  K-Nearest Neighbours    1.0000      1.000  1.0000    1.0000\n"
     ]
    }
   ],
   "source": [
    "#I want to display the metrics of all the models alongside each other. We first create a dictionary of the metrics\n",
    "results = {\n",
    "    'Model': [\n",
    "        'XGBoost',\n",
    "        'GaussianNB',\n",
    "        'Random Forest',\n",
    "        'Decision Tree',\n",
    "        'Logistic Regression',\n",
    "        'Support Vector Machine',\n",
    "        'K-Nearest Neighbours'\n",
    "    ],\n",
    "    'Accuracy': [\n",
    "        accuracy_xgb,\n",
    "        accuracy_gnb,\n",
    "        accuracy_rdf,\n",
    "        accuracy_dt,\n",
    "        accuracy_lr,\n",
    "        accuracy_svc,\n",
    "        accuracy_knn\n",
    "    ],\n",
    "    'Precision': [\n",
    "        precision_xgb,\n",
    "        precision_gnb,\n",
    "        precision_rdf,\n",
    "        precision_dt,\n",
    "        precision_lr,\n",
    "        precision_svc,\n",
    "        precision_knn\n",
    "    ],\n",
    "    'Recall': [\n",
    "        recall_xgb,\n",
    "        recall_gnb,\n",
    "        recall_rdf,\n",
    "        recall_dt,\n",
    "        recall_lr,\n",
    "        recall_svc,\n",
    "        recall_knn\n",
    "    ],\n",
    "    'F1 Score': [\n",
    "        f1_xgb,\n",
    "        f1_gnb,\n",
    "        f1_rdf,\n",
    "        f1_dt,\n",
    "        f1_lr,\n",
    "        f1_svc,\n",
    "        f1_knn\n",
    "    ]\n",
    "}\n",
    "\n",
    "#We then form a dataframe with the results\n",
    "df2_results = pd.DataFrame(results)\n",
    "\n",
    "#We round all the metrics to 4 decimal places\n",
    "df2_results[['Accuracy', 'Precision', 'Recall', 'F1 Score']] = df2_results[['Accuracy', 'Precision', 'Recall', 'F1 Score']].round(4)\n",
    "\n",
    "# Displaying the results\n",
    "print(\"Models Evaluation Metrics:\")\n",
    "print(df2_results.to_string(index=False))"
   ]
  }
 ],
 "metadata": {
  "kernelspec": {
   "display_name": "Python 3 (ipykernel)",
   "language": "python",
   "name": "python3"
  },
  "language_info": {
   "codemirror_mode": {
    "name": "ipython",
    "version": 3
   },
   "file_extension": ".py",
   "mimetype": "text/x-python",
   "name": "python",
   "nbconvert_exporter": "python",
   "pygments_lexer": "ipython3",
   "version": "3.12.4"
  }
 },
 "nbformat": 4,
 "nbformat_minor": 5
}
